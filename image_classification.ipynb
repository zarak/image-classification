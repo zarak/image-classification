{
 "cells": [
  {
   "cell_type": "markdown",
   "metadata": {
    "collapsed": true
   },
   "source": [
    "# Image Classification\n",
    "In this project, you'll classify images from the [CIFAR-10 dataset](https://www.cs.toronto.edu/~kriz/cifar.html).  The dataset consists of airplanes, dogs, cats, and other objects. You'll preprocess the images, then train a convolutional neural network on all the samples. The images need to be normalized and the labels need to be one-hot encoded.  You'll get to apply what you learned and build a convolutional, max pooling, dropout, and fully connected layers.  At the end, you'll get to see your neural network's predictions on the sample images.\n",
    "## Get the Data\n",
    "Run the following cell to download the [CIFAR-10 dataset for python](https://www.cs.toronto.edu/~kriz/cifar-10-python.tar.gz)."
   ]
  },
  {
   "cell_type": "code",
   "execution_count": 1,
   "metadata": {
    "collapsed": false
   },
   "outputs": [
    {
     "name": "stderr",
     "output_type": "stream",
     "text": [
      "CIFAR-10 Dataset: 171MB [03:51, 737KB/s]                               \n"
     ]
    },
    {
     "name": "stdout",
     "output_type": "stream",
     "text": [
      "All files found!\n"
     ]
    }
   ],
   "source": [
    "\"\"\"\n",
    "DON'T MODIFY ANYTHING IN THIS CELL THAT IS BELOW THIS LINE\n",
    "\"\"\"\n",
    "from urllib.request import urlretrieve\n",
    "from os.path import isfile, isdir\n",
    "from tqdm import tqdm\n",
    "import problem_unittests as tests\n",
    "import tarfile\n",
    "\n",
    "cifar10_dataset_folder_path = 'cifar-10-batches-py'\n",
    "\n",
    "class DLProgress(tqdm):\n",
    "    last_block = 0\n",
    "\n",
    "    def hook(self, block_num=1, block_size=1, total_size=None):\n",
    "        self.total = total_size\n",
    "        self.update((block_num - self.last_block) * block_size)\n",
    "        self.last_block = block_num\n",
    "\n",
    "if not isfile('cifar-10-python.tar.gz'):\n",
    "    with DLProgress(unit='B', unit_scale=True, miniters=1, desc='CIFAR-10 Dataset') as pbar:\n",
    "        urlretrieve(\n",
    "            'https://www.cs.toronto.edu/~kriz/cifar-10-python.tar.gz',\n",
    "            'cifar-10-python.tar.gz',\n",
    "            pbar.hook)\n",
    "\n",
    "if not isdir(cifar10_dataset_folder_path):\n",
    "    with tarfile.open('cifar-10-python.tar.gz') as tar:\n",
    "        tar.extractall()\n",
    "        tar.close()\n",
    "\n",
    "\n",
    "tests.test_folder_path(cifar10_dataset_folder_path)"
   ]
  },
  {
   "cell_type": "markdown",
   "metadata": {},
   "source": [
    "## Explore the Data\n",
    "The dataset is broken into batches to prevent your machine from running out of memory.  The CIFAR-10 dataset consists of 5 batches, named `data_batch_1`, `data_batch_2`, etc.. Each batch contains the labels and images that are one of the following:\n",
    "* airplane\n",
    "* automobile\n",
    "* bird\n",
    "* cat\n",
    "* deer\n",
    "* dog\n",
    "* frog\n",
    "* horse\n",
    "* ship\n",
    "* truck\n",
    "\n",
    "Understanding a dataset is part of making predictions on the data.  Play around with the code cell below by changing the `batch_id` and `sample_id`. The `batch_id` is the id for a batch (1-5). The `sample_id` is the id for a image and label pair in the batch.\n",
    "\n",
    "Ask yourself \"What are all possible labels?\", \"What is the range of values for the image data?\", \"Are the labels in order or random?\".  Answers to questions like these will help you preprocess the data and end up with better predictions."
   ]
  },
  {
   "cell_type": "code",
   "execution_count": 2,
   "metadata": {
    "collapsed": false
   },
   "outputs": [
    {
     "name": "stdout",
     "output_type": "stream",
     "text": [
      "\n",
      "Stats of batch 2:\n",
      "Samples: 10000\n",
      "Label Counts: {0: 984, 1: 1007, 2: 1010, 3: 995, 4: 1010, 5: 988, 6: 1008, 7: 1026, 8: 987, 9: 985}\n",
      "First 20 Labels: [1, 6, 6, 8, 8, 3, 4, 6, 0, 6, 0, 3, 6, 6, 5, 4, 8, 3, 2, 6]\n",
      "\n",
      "Example of Image 5:\n",
      "Image - Min Value: 3 Max Value: 219\n",
      "Image - Shape: (32, 32, 3)\n",
      "Label - Label Id: 3 Name: cat\n"
     ]
    },
    {
     "data": {
      "image/png": "[encoded data removed]",
      "text/plain": [
       "<matplotlib.figure.Figure at 0x7f39ace16860>"
      ]
     },
     "metadata": {
      "image/png": {
       "height": 250,
       "width": 253
      }
     },
     "output_type": "display_data"
    }
   ],
   "source": [
    "%matplotlib inline\n",
    "%config InlineBackend.figure_format = 'retina'\n",
    "\n",
    "import helper\n",
    "import numpy as np\n",
    "\n",
    "# Explore the dataset\n",
    "batch_id = 2\n",
    "sample_id = 5\n",
    "helper.display_stats(cifar10_dataset_folder_path, batch_id, sample_id)"
   ]
  },
  {
   "cell_type": "markdown",
   "metadata": {},
   "source": [
    "## Implement Preprocess Functions\n",
    "### Normalize\n",
    "In the cell below, implement the `normalize` function to take in image data, `x`, and return it as a normalized Numpy array. The values should be in the range of 0 to 1, inclusive.  The return object should be the same shape as `x`."
   ]
  },
  {
   "cell_type": "code",
   "execution_count": 3,
   "metadata": {
    "collapsed": false
   },
   "outputs": [
    {
     "name": "stdout",
     "output_type": "stream",
     "text": [
      "Tests Passed\n"
     ]
    }
   ],
   "source": [
    "def normalize(x):\n",
    "    \"\"\"\n",
    "    Normalize a list of sample image data in the range of 0 to 1\n",
    "    : x: List of image data.  The image shape is (32, 32, 3)\n",
    "    : return: Numpy array of normalize data\n",
    "    \"\"\"\n",
    "    # TODO: Implement Function\n",
    "    mean = np.mean(x, axis=0)\n",
    "    max_pixel_value = np.max(x[0])\n",
    "    return np.array([abs(item - mean) / max_pixel_value for item in x])\n",
    "\n",
    "\n",
    "\"\"\"\n",
    "DON'T MODIFY ANYTHING IN THIS CELL THAT IS BELOW THIS LINE\n",
    "\"\"\"\n",
    "tests.test_normalize(normalize)"
   ]
  },
  {
   "cell_type": "markdown",
   "metadata": {},
   "source": [
    "### One-hot encode\n",
    "Just like the previous code cell, you'll be implementing a function for preprocessing.  This time, you'll implement the `one_hot_encode` function. The input, `x`, are a list of labels.  Implement the function to return the list of labels as One-Hot encoded Numpy array.  The possible values for labels are 0 to 9. The one-hot encoding function should return the same encoding for each value between each call to `one_hot_encode`.  Make sure to save the map of encodings outside the function.\n",
    "\n",
    "**Hint:**\n",
    "\n",
    "Look into LabelBinarizer in the preprocessing module of sklearn."
   ]
  },
  {
   "cell_type": "code",
   "execution_count": 4,
   "metadata": {
    "collapsed": false
   },
   "outputs": [
    {
     "name": "stdout",
     "output_type": "stream",
     "text": [
      "Tests Passed\n"
     ]
    }
   ],
   "source": [
    "from sklearn.preprocessing import LabelBinarizer\n",
    "\n",
    "encoding = list(range(10))\n",
    "\n",
    "def one_hot_encode(x):\n",
    "    \"\"\"\n",
    "    One hot encode a list of sample labels. Return a one-hot encoded vector for each label.\n",
    "    : x: List of sample Labels\n",
    "    : return: Numpy array of one-hot encoded labels\n",
    "    \"\"\"\n",
    "    # TODO: Implement Function\n",
    "    lb = LabelBinarizer()\n",
    "    lb.fit(encoding)\n",
    "    return lb.transform(x)\n",
    "\n",
    "\n",
    "\"\"\"\n",
    "DON'T MODIFY ANYTHING IN THIS CELL THAT IS BELOW THIS LINE\n",
    "\"\"\"\n",
    "tests.test_one_hot_encode(one_hot_encode)"
   ]
  },
  {
   "cell_type": "markdown",
   "metadata": {},
   "source": [
    "### Randomize Data\n",
    "As you saw from exploring the data above, the order of the samples are randomized.  It doesn't hurt to randomize it again, but you don't need to for this dataset."
   ]
  },
  {
   "cell_type": "markdown",
   "metadata": {},
   "source": [
    "## Preprocess all the data and save it\n",
    "Running the code cell below will preprocess all the CIFAR-10 data and save it to file. The code below also uses 10% of the training data for validation."
   ]
  },
  {
   "cell_type": "code",
   "execution_count": 5,
   "metadata": {
    "collapsed": false
   },
   "outputs": [],
   "source": [
    "\"\"\"\n",
    "DON'T MODIFY ANYTHING IN THIS CELL\n",
    "\"\"\"\n",
    "# Preprocess Training, Validation, and Testing Data\n",
    "helper.preprocess_and_save_data(cifar10_dataset_folder_path, normalize, one_hot_encode)"
   ]
  },
  {
   "cell_type": "markdown",
   "metadata": {},
   "source": [
    "# Check Point\n",
    "This is your first checkpoint.  If you ever decide to come back to this notebook or have to restart the notebook, you can start from here.  The preprocessed data has been saved to disk."
   ]
  },
  {
   "cell_type": "code",
   "execution_count": 6,
   "metadata": {
    "collapsed": true
   },
   "outputs": [],
   "source": [
    "\"\"\"\n",
    "DON'T MODIFY ANYTHING IN THIS CELL\n",
    "\"\"\"\n",
    "import pickle\n",
    "import problem_unittests as tests\n",
    "import helper\n",
    "\n",
    "# Load the Preprocessed Validation data\n",
    "valid_features, valid_labels = pickle.load(open('preprocess_validation.p', mode='rb'))"
   ]
  },
  {
   "cell_type": "markdown",
   "metadata": {},
   "source": [
    "## Build the network\n",
    "For the neural network, you'll build each layer into a function.  Most of the code you've seen has been outside of functions. To test your code more thoroughly, we require that you put each layer in a function.  This allows us to give you better feedback and test for simple mistakes using our unittests before you submit your project.\n",
    "\n",
    ">**Note:** If you're finding it hard to dedicate enough time for this course each week, we've provided a small shortcut to this part of the project. In the next couple of problems, you'll have the option to use classes from the [TensorFlow Layers](https://www.tensorflow.org/api_docs/python/tf/layers) or [TensorFlow Layers (contrib)](https://www.tensorflow.org/api_guides/python/contrib.layers) packages to build each layer, except the layers you build in the \"Convolutional and Max Pooling Layer\" section.  TF Layers is similar to Keras's and TFLearn's abstraction to layers, so it's easy to pickup.\n",
    "\n",
    ">However, if you would like to get the most out of this course, try to solve all the problems _without_ using anything from the TF Layers packages. You **can** still use classes from other packages that happen to have the same name as ones you find in TF Layers! For example, instead of using the TF Layers version of the `conv2d` class, [tf.layers.conv2d](https://www.tensorflow.org/api_docs/python/tf/layers/conv2d), you would want to use the TF Neural Network version of `conv2d`, [tf.nn.conv2d](https://www.tensorflow.org/api_docs/python/tf/nn/conv2d). \n",
    "\n",
    "Let's begin!\n",
    "\n",
    "### Input\n",
    "The neural network needs to read the image data, one-hot encoded labels, and dropout keep probability. Implement the following functions\n",
    "* Implement `neural_net_image_input`\n",
    " * Return a [TF Placeholder](https://www.tensorflow.org/api_docs/python/tf/placeholder)\n",
    " * Set the shape using `image_shape` with batch size set to `None`.\n",
    " * Name the TensorFlow placeholder \"x\" using the TensorFlow `name` parameter in the [TF Placeholder](https://www.tensorflow.org/api_docs/python/tf/placeholder).\n",
    "* Implement `neural_net_label_input`\n",
    " * Return a [TF Placeholder](https://www.tensorflow.org/api_docs/python/tf/placeholder)\n",
    " * Set the shape using `n_classes` with batch size set to `None`.\n",
    " * Name the TensorFlow placeholder \"y\" using the TensorFlow `name` parameter in the [TF Placeholder](https://www.tensorflow.org/api_docs/python/tf/placeholder).\n",
    "* Implement `neural_net_keep_prob_input`\n",
    " * Return a [TF Placeholder](https://www.tensorflow.org/api_docs/python/tf/placeholder) for dropout keep probability.\n",
    " * Name the TensorFlow placeholder \"keep_prob\" using the TensorFlow `name` parameter in the [TF Placeholder](https://www.tensorflow.org/api_docs/python/tf/placeholder).\n",
    "\n",
    "These names will be used at the end of the project to load your saved model.\n",
    "\n",
    "Note: `None` for shapes in TensorFlow allow for a dynamic size."
   ]
  },
  {
   "cell_type": "code",
   "execution_count": 7,
   "metadata": {
    "collapsed": false
   },
   "outputs": [
    {
     "name": "stdout",
     "output_type": "stream",
     "text": [
      "Image Input Tests Passed.\n",
      "Label Input Tests Passed.\n",
      "Keep Prob Tests Passed.\n"
     ]
    }
   ],
   "source": [
    "import tensorflow as tf\n",
    "\n",
    "def neural_net_image_input(image_shape):\n",
    "    \"\"\"\n",
    "    Return a Tensor for a batch of image input\n",
    "    : image_shape: Shape of the images\n",
    "    : return: Tensor for image input.\n",
    "    \"\"\"\n",
    "    # TODO: Implement Function\n",
    "    shape = None, *image_shape\n",
    "    return tf.placeholder(tf.float32, shape=shape, name=\"x\")\n",
    "\n",
    "\n",
    "def neural_net_label_input(n_classes):\n",
    "    \"\"\"\n",
    "    Return a Tensor for a batch of label input\n",
    "    : n_classes: Number of classes\n",
    "    : return: Tensor for label input.\n",
    "    \"\"\"\n",
    "    # TODO: Implement Function\n",
    "    shape = None, n_classes\n",
    "    return tf.placeholder(tf.float32, shape=shape, name=\"y\")\n",
    "\n",
    "\n",
    "def neural_net_keep_prob_input():\n",
    "    \"\"\"\n",
    "    Return a Tensor for keep probability\n",
    "    : return: Tensor for keep probability.\n",
    "    \"\"\"\n",
    "    # TODO: Implement Function\n",
    "    return tf.placeholder(tf.float32, name=\"keep_prob\")\n",
    "\n",
    "\n",
    "\"\"\"\n",
    "DON'T MODIFY ANYTHING IN THIS CELL THAT IS BELOW THIS LINE\n",
    "\"\"\"\n",
    "tf.reset_default_graph()\n",
    "tests.test_nn_image_inputs(neural_net_image_input)\n",
    "tests.test_nn_label_inputs(neural_net_label_input)\n",
    "tests.test_nn_keep_prob_inputs(neural_net_keep_prob_input)"
   ]
  },
  {
   "cell_type": "markdown",
   "metadata": {},
   "source": [
    "### Convolution and Max Pooling Layer\n",
    "Convolution layers have a lot of success with images. For this code cell, you should implement the function `conv2d_maxpool` to apply convolution then max pooling:\n",
    "* Create the weight and bias using `conv_ksize`, `conv_num_outputs` and the shape of `x_tensor`.\n",
    "* Apply a convolution to `x_tensor` using weight and `conv_strides`.\n",
    " * We recommend you use same padding, but you're welcome to use any padding.\n",
    "* Add bias\n",
    "* Add a nonlinear activation to the convolution.\n",
    "* Apply Max Pooling using `pool_ksize` and `pool_strides`.\n",
    " * We recommend you use same padding, but you're welcome to use any padding.\n",
    "\n",
    "**Note:** You **can't** use [TensorFlow Layers](https://www.tensorflow.org/api_docs/python/tf/layers) or [TensorFlow Layers (contrib)](https://www.tensorflow.org/api_guides/python/contrib.layers) for **this** layer, but you can still use TensorFlow's [Neural Network](https://www.tensorflow.org/api_docs/python/tf/nn) package. You may still use the shortcut option for all the **other** layers.\n",
    "\n",
    "** Hint: **\n",
    "\n",
    "When unpacking values as an argument in Python, look into the [unpacking](https://docs.python.org/3/tutorial/controlflow.html#unpacking-argument-lists) operator. "
   ]
  },
  {
   "cell_type": "code",
   "execution_count": 8,
   "metadata": {
    "collapsed": false
   },
   "outputs": [
    {
     "name": "stdout",
     "output_type": "stream",
     "text": [
      "Tests Passed\n"
     ]
    }
   ],
   "source": [
    "def conv2d_maxpool(x_tensor, conv_num_outputs, conv_ksize, conv_strides, pool_ksize, pool_strides):\n",
    "    \"\"\"\n",
    "    Apply convolution then max pooling to x_tensor\n",
    "    :param x_tensor: TensorFlow Tensor\n",
    "    :param conv_num_outputs: Number of outputs for the convolutional layer\n",
    "    :param conv_ksize: kernal size 2-D Tuple for the convolutional layer\n",
    "    :param conv_strides: Stride 2-D Tuple for convolution\n",
    "    :param pool_ksize: kernal size 2-D Tuple for pool\n",
    "    :param pool_strides: Stride 2-D Tuple for pool\n",
    "    : return: A tensor that represents convolution and max pooling of x_tensor\n",
    "    \"\"\"\n",
    "    # TODO: Implement Function\n",
    "    depth = x_tensor.get_shape().as_list()[-1]\n",
    "    \n",
    "    weight = tf.Variable(tf.truncated_normal([conv_ksize[0], conv_ksize[1], depth, conv_num_outputs], stddev=0.1))\n",
    "    bias = tf.Variable(tf.constant(0.1, shape=[conv_num_outputs]))\n",
    "    \n",
    "    c_strides = 1, *conv_strides, 1\n",
    "    p_strides = 1, *pool_strides, 1\n",
    "    p_size = 1, *pool_ksize, 1\n",
    "    \n",
    "    conv_layer = tf.nn.conv2d(x_tensor, weight, strides=c_strides, padding='SAME')\n",
    "    conv_layer = tf.nn.bias_add(conv_layer, bias)\n",
    "    conv_layer = tf.nn.relu(conv_layer)\n",
    "    conv_layer = tf.nn.max_pool(conv_layer, ksize=p_size, strides=p_strides, padding='SAME')\n",
    "    return conv_layer \n",
    "\n",
    "\n",
    "\"\"\"\n",
    "DON'T MODIFY ANYTHING IN THIS CELL THAT IS BELOW THIS LINE\n",
    "\"\"\"\n",
    "tests.test_con_pool(conv2d_maxpool)"
   ]
  },
  {
   "cell_type": "markdown",
   "metadata": {},
   "source": [
    "### Flatten Layer\n",
    "Implement the `flatten` function to change the dimension of `x_tensor` from a 4-D tensor to a 2-D tensor.  The output should be the shape (*Batch Size*, *Flattened Image Size*). Shortcut option: you can use classes from the [TensorFlow Layers](https://www.tensorflow.org/api_docs/python/tf/layers) or [TensorFlow Layers (contrib)](https://www.tensorflow.org/api_guides/python/contrib.layers) packages for this layer. For more of a challenge, only use other TensorFlow packages."
   ]
  },
  {
   "cell_type": "code",
   "execution_count": 9,
   "metadata": {
    "collapsed": false
   },
   "outputs": [
    {
     "name": "stdout",
     "output_type": "stream",
     "text": [
      "Tests Passed\n"
     ]
    }
   ],
   "source": [
    "def flatten(x_tensor):\n",
    "    \"\"\"\n",
    "    Flatten x_tensor to (Batch Size, Flattened Image Size)\n",
    "    : x_tensor: A tensor of size (Batch Size, ...), where ... are the image dimensions.\n",
    "    : return: A tensor of size (Batch Size, Flattened Image Size).\n",
    "    \"\"\"\n",
    "    # TODO: Implement Function\n",
    "    flat_size = x_tensor.get_shape().as_list()[1] * x_tensor.get_shape().as_list()[2] * x_tensor.get_shape().as_list()[3]\n",
    "    return tf.reshape(x_tensor, [-1, flat_size])\n",
    "\n",
    "\n",
    "\"\"\"\n",
    "DON'T MODIFY ANYTHING IN THIS CELL THAT IS BELOW THIS LINE\n",
    "\"\"\"\n",
    "tests.test_flatten(flatten)"
   ]
  },
  {
   "cell_type": "markdown",
   "metadata": {},
   "source": [
    "### Fully-Connected Layer\n",
    "Implement the `fully_conn` function to apply a fully connected layer to `x_tensor` with the shape (*Batch Size*, *num_outputs*). Shortcut option: you can use classes from the [TensorFlow Layers](https://www.tensorflow.org/api_docs/python/tf/layers) or [TensorFlow Layers (contrib)](https://www.tensorflow.org/api_guides/python/contrib.layers) packages for this layer. For more of a challenge, only use other TensorFlow packages."
   ]
  },
  {
   "cell_type": "code",
   "execution_count": 10,
   "metadata": {
    "collapsed": false
   },
   "outputs": [
    {
     "name": "stdout",
     "output_type": "stream",
     "text": [
      "Tests Passed\n"
     ]
    }
   ],
   "source": [
    "def fully_conn(x_tensor, num_outputs):\n",
    "    \"\"\"\n",
    "    Apply a fully connected layer to x_tensor using weight and bias\n",
    "    : x_tensor: A 2-D tensor where the first dimension is batch size.\n",
    "    : num_outputs: The number of output that the new tensor should be.\n",
    "    : return: A 2-D tensor where the second dimension is num_outputs.\n",
    "    \"\"\"\n",
    "    # TODO: Implement Function\n",
    "    weight = tf.Variable(tf.truncated_normal([x_tensor.get_shape().as_list()[1], num_outputs], stddev=0.1))\n",
    "    bias = tf.Variable(tf.constant(0.1, shape=[num_outputs]))\n",
    "    fc = tf.add(tf.matmul(x_tensor, weight), bias)\n",
    "    fc = tf.nn.relu(fc)\n",
    "    return fc\n",
    "\n",
    "\n",
    "\"\"\"\n",
    "DON'T MODIFY ANYTHING IN THIS CELL THAT IS BELOW THIS LINE\n",
    "\"\"\"\n",
    "tests.test_fully_conn(fully_conn)"
   ]
  },
  {
   "cell_type": "markdown",
   "metadata": {},
   "source": [
    "### Output Layer\n",
    "Implement the `output` function to apply a fully connected layer to `x_tensor` with the shape (*Batch Size*, *num_outputs*). Shortcut option: you can use classes from the [TensorFlow Layers](https://www.tensorflow.org/api_docs/python/tf/layers) or [TensorFlow Layers (contrib)](https://www.tensorflow.org/api_guides/python/contrib.layers) packages for this layer. For more of a challenge, only use other TensorFlow packages.\n",
    "\n",
    "**Note:** Activation, softmax, or cross entropy should **not** be applied to this."
   ]
  },
  {
   "cell_type": "code",
   "execution_count": 11,
   "metadata": {
    "collapsed": false
   },
   "outputs": [
    {
     "name": "stdout",
     "output_type": "stream",
     "text": [
      "Tests Passed\n"
     ]
    }
   ],
   "source": [
    "def output(x_tensor, num_outputs):\n",
    "    \"\"\"\n",
    "    Apply a output layer to x_tensor using weight and bias\n",
    "    : x_tensor: A 2-D tensor where the first dimension is batch size.\n",
    "    : num_outputs: The number of output that the new tensor should be.\n",
    "    : return: A 2-D tensor where the second dimension is num_outputs.\n",
    "    \"\"\"\n",
    "    # TODO: Implement Function\n",
    "    weight = tf.Variable(tf.truncated_normal([x_tensor.get_shape().as_list()[1], num_outputs], stddev=0.1))\n",
    "    bias = tf.Variable(tf.constant(0.1, shape=[num_outputs]))\n",
    "    out = tf.add(tf.matmul(x_tensor, weight), bias)\n",
    "    return out\n",
    "\n",
    "\n",
    "\"\"\"\n",
    "DON'T MODIFY ANYTHING IN THIS CELL THAT IS BELOW THIS LINE\n",
    "\"\"\"\n",
    "tests.test_output(output)"
   ]
  },
  {
   "cell_type": "markdown",
   "metadata": {},
   "source": [
    "### Create Convolutional Model\n",
    "Implement the function `conv_net` to create a convolutional neural network model. The function takes in a batch of images, `x`, and outputs logits.  Use the layers you created above to create this model:\n",
    "\n",
    "* Apply 1, 2, or 3 Convolution and Max Pool layers\n",
    "* Apply a Flatten Layer\n",
    "* Apply 1, 2, or 3 Fully Connected Layers\n",
    "* Apply an Output Layer\n",
    "* Return the output\n",
    "* Apply [TensorFlow's Dropout](https://www.tensorflow.org/api_docs/python/tf/nn/dropout) to one or more layers in the model using `keep_prob`. "
   ]
  },
  {
   "cell_type": "code",
   "execution_count": 24,
   "metadata": {
    "collapsed": false
   },
   "outputs": [
    {
     "name": "stdout",
     "output_type": "stream",
     "text": [
      "Neural Network Built!\n"
     ]
    }
   ],
   "source": [
    "def conv_net(x, keep_prob):\n",
    "    \"\"\"\n",
    "    Create a convolutional neural network model\n",
    "    : x: Placeholder tensor that holds image data.\n",
    "    : keep_prob: Placeholder tensor that hold dropout keep probability.\n",
    "    : return: Tensor that represents logits\n",
    "    \"\"\"\n",
    "    # TODO: Apply 1, 2, or 3 Convolution and Max Pool layers\n",
    "    #    Play around with different number of outputs, kernel size and stride\n",
    "    # Function Definition from Above:\n",
    "    #    conv2d_maxpool(x_tensor, conv_num_outputs, conv_ksize, conv_strides, pool_ksize, pool_strides)\n",
    "    conv1 = conv2d_maxpool(x, 128, (3, 3), (1, 1), (2, 2), (2, 2))\n",
    "    conv2 = conv2d_maxpool(conv1, 256, (3, 3), (1, 1), (2, 2), (2, 2))\n",
    "    conv3 = conv2d_maxpool(conv2, 512, (3, 3), (1, 1), (2, 2), (2, 2))\n",
    "\n",
    "    # TODO: Apply a Flatten Layer\n",
    "    # Function Definition from Above:\n",
    "    #   flatten(x_tensor)\n",
    "    fc = flatten(conv3)\n",
    "\n",
    "    # TODO: Apply 1, 2, or 3 Fully Connected Layers\n",
    "    #    Play around with different number of outputs\n",
    "    # Function Definition from Above:\n",
    "    #   fully_conn(x_tensor, num_outputs)\n",
    "    fc = fully_conn(fc, 1024)\n",
    "    fc = tf.nn.dropout(fc, keep_prob)\n",
    "    \n",
    "    # TODO: Apply an Output Layer\n",
    "    #    Set this to the number of classes\n",
    "    # Function Definition from Above:\n",
    "    #   output(x_tensor, num_outputs)\n",
    "    out = output(fc, 10)\n",
    "    \n",
    "    # TODO: return output\n",
    "    return out\n",
    "\n",
    "\n",
    "\"\"\"\n",
    "DON'T MODIFY ANYTHING IN THIS CELL THAT IS BELOW THIS LINE\n",
    "\"\"\"\n",
    "\n",
    "##############################\n",
    "## Build the Neural Network ##\n",
    "##############################\n",
    "\n",
    "# Remove previous weights, bias, inputs, etc..\n",
    "tf.reset_default_graph()\n",
    "\n",
    "# Inputs\n",
    "x = neural_net_image_input((32, 32, 3))\n",
    "y = neural_net_label_input(10)\n",
    "keep_prob = neural_net_keep_prob_input()\n",
    "\n",
    "# Model\n",
    "logits = conv_net(x, keep_prob)\n",
    "\n",
    "# Name logits Tensor, so that is can be loaded from disk after training\n",
    "logits = tf.identity(logits, name='logits')\n",
    "\n",
    "# Loss and Optimizer\n",
    "cost = tf.reduce_mean(tf.nn.softmax_cross_entropy_with_logits(logits=logits, labels=y))\n",
    "optimizer = tf.train.AdamOptimizer().minimize(cost)\n",
    "\n",
    "# Accuracy\n",
    "correct_pred = tf.equal(tf.argmax(logits, 1), tf.argmax(y, 1))\n",
    "accuracy = tf.reduce_mean(tf.cast(correct_pred, tf.float32), name='accuracy')\n",
    "\n",
    "tests.test_conv_net(conv_net)"
   ]
  },
  {
   "cell_type": "markdown",
   "metadata": {},
   "source": [
    "## Train the Neural Network\n",
    "### Single Optimization\n",
    "Implement the function `train_neural_network` to do a single optimization.  The optimization should use `optimizer` to optimize in `session` with a `feed_dict` of the following:\n",
    "* `x` for image input\n",
    "* `y` for labels\n",
    "* `keep_prob` for keep probability for dropout\n",
    "\n",
    "This function will be called for each batch, so `tf.global_variables_initializer()` has already been called.\n",
    "\n",
    "Note: Nothing needs to be returned. This function is only optimizing the neural network."
   ]
  },
  {
   "cell_type": "code",
   "execution_count": 25,
   "metadata": {
    "collapsed": false
   },
   "outputs": [
    {
     "name": "stdout",
     "output_type": "stream",
     "text": [
      "Tests Passed\n"
     ]
    }
   ],
   "source": [
    "def train_neural_network(session, optimizer, keep_probability, feature_batch, label_batch):\n",
    "    \"\"\"\n",
    "    Optimize the session on a batch of images and labels\n",
    "    : session: Current TensorFlow session\n",
    "    : optimizer: TensorFlow optimizer function\n",
    "    : keep_probability: keep probability\n",
    "    : feature_batch: Batch of Numpy image data\n",
    "    : label_batch: Batch of Numpy label data\n",
    "    \"\"\"\n",
    "    # TODO: Implement Function\n",
    "    session.run(optimizer, feed_dict={x: feature_batch, y: label_batch, keep_prob: keep_probability})\n",
    "    \n",
    "    \n",
    "\n",
    "\n",
    "\"\"\"\n",
    "DON'T MODIFY ANYTHING IN THIS CELL THAT IS BELOW THIS LINE\n",
    "\"\"\"\n",
    "tests.test_train_nn(train_neural_network)"
   ]
  },
  {
   "cell_type": "markdown",
   "metadata": {},
   "source": [
    "### Show Stats\n",
    "Implement the function `print_stats` to print loss and validation accuracy.  Use the global variables `valid_features` and `valid_labels` to calculate validation accuracy.  Use a keep probability of `1.0` to calculate the loss and validation accuracy."
   ]
  },
  {
   "cell_type": "code",
   "execution_count": 26,
   "metadata": {
    "collapsed": false
   },
   "outputs": [],
   "source": [
    "def print_stats(session, feature_batch, label_batch, cost, accuracy):\n",
    "    \"\"\"\n",
    "    Print information about loss and validation accuracy\n",
    "    : session: Current TensorFlow session\n",
    "    : feature_batch: Batch of Numpy image data\n",
    "    : label_batch: Batch of Numpy label data\n",
    "    : cost: TensorFlow cost function\n",
    "    : accuracy: TensorFlow accuracy function\n",
    "    \"\"\"\n",
    "    # TODO: Implement Function\n",
    "    loss = session.run(cost, feed_dict={x: feature_batch, y: label_batch, keep_prob: 1.})\n",
    "    valid_acc = session.run(accuracy, feed_dict={x: valid_features, y: valid_labels, keep_prob: 1.})\n",
    "    print(\"\\nLoss: {} \\nValidation accuracy: {}\".format(loss, valid_acc))"
   ]
  },
  {
   "cell_type": "markdown",
   "metadata": {},
   "source": [
    "### Hyperparameters\n",
    "Tune the following parameters:\n",
    "* Set `epochs` to the number of iterations until the network stops learning or start overfitting\n",
    "* Set `batch_size` to the highest number that your machine has memory for.  Most people set them to common sizes of memory:\n",
    " * 64\n",
    " * 128\n",
    " * 256\n",
    " * ...\n",
    "* Set `keep_probability` to the probability of keeping a node using dropout"
   ]
  },
  {
   "cell_type": "code",
   "execution_count": 27,
   "metadata": {
    "collapsed": true
   },
   "outputs": [],
   "source": [
    "# TODO: Tune Parameters\n",
    "epochs = 20\n",
    "batch_size = 256\n",
    "keep_probability = 0.85"
   ]
  },
  {
   "cell_type": "markdown",
   "metadata": {},
   "source": [
    "### Train on a Single CIFAR-10 Batch\n",
    "Instead of training the neural network on all the CIFAR-10 batches of data, let's use a single batch. This should save time while you iterate on the model to get a better accuracy.  Once the final validation accuracy is 50% or greater, run the model on all the data in the next section."
   ]
  },
  {
   "cell_type": "code",
   "execution_count": 28,
   "metadata": {
    "collapsed": false
   },
   "outputs": [
    {
     "name": "stdout",
     "output_type": "stream",
     "text": [
      "Checking the Training on a Single Batch...\n",
      "Epoch  1, CIFAR-10 Batch 1:  \n",
      "Loss: 2.4606287479400635 \n",
      "Validation accuracy: 0.17899999022483826\n",
      "Epoch  2, CIFAR-10 Batch 1:  \n",
      "Loss: 1.9373602867126465 \n",
      "Validation accuracy: 0.27699998021125793\n",
      "Epoch  3, CIFAR-10 Batch 1:  \n",
      "Loss: 1.5267268419265747 \n",
      "Validation accuracy: 0.3197999596595764\n",
      "Epoch  4, CIFAR-10 Batch 1:  \n",
      "Loss: 1.1709175109863281 \n",
      "Validation accuracy: 0.355599969625473\n",
      "Epoch  5, CIFAR-10 Batch 1:  \n",
      "Loss: 0.9309871196746826 \n",
      "Validation accuracy: 0.3577999770641327\n",
      "Epoch  6, CIFAR-10 Batch 1:  \n",
      "Loss: 0.7035413384437561 \n",
      "Validation accuracy: 0.3779999911785126\n",
      "Epoch  7, CIFAR-10 Batch 1:  \n",
      "Loss: 0.5193689465522766 \n",
      "Validation accuracy: 0.41339996457099915\n",
      "Epoch  8, CIFAR-10 Batch 1:  \n",
      "Loss: 0.3672543466091156 \n",
      "Validation accuracy: 0.43139997124671936\n",
      "Epoch  9, CIFAR-10 Batch 1:  \n",
      "Loss: 0.2780303955078125 \n",
      "Validation accuracy: 0.4410000145435333\n",
      "Epoch 10, CIFAR-10 Batch 1:  \n",
      "Loss: 0.2000953108072281 \n",
      "Validation accuracy: 0.4551999568939209\n",
      "Epoch 11, CIFAR-10 Batch 1:  \n",
      "Loss: 0.15654674172401428 \n",
      "Validation accuracy: 0.4577999711036682\n",
      "Epoch 12, CIFAR-10 Batch 1:  \n",
      "Loss: 0.12237648665904999 \n",
      "Validation accuracy: 0.44499993324279785\n",
      "Epoch 13, CIFAR-10 Batch 1:  \n",
      "Loss: 0.17472438514232635 \n",
      "Validation accuracy: 0.4097999334335327\n",
      "Epoch 14, CIFAR-10 Batch 1:  \n",
      "Loss: 0.11487288028001785 \n",
      "Validation accuracy: 0.4439999461174011\n",
      "Epoch 15, CIFAR-10 Batch 1:  \n",
      "Loss: 0.08475034683942795 \n",
      "Validation accuracy: 0.47259998321533203\n",
      "Epoch 16, CIFAR-10 Batch 1:  \n",
      "Loss: 0.07965048402547836 \n",
      "Validation accuracy: 0.47019994258880615\n",
      "Epoch 17, CIFAR-10 Batch 1:  \n",
      "Loss: 0.05109545588493347 \n",
      "Validation accuracy: 0.4607999920845032\n",
      "Epoch 18, CIFAR-10 Batch 1:  \n",
      "Loss: 0.037571169435977936 \n",
      "Validation accuracy: 0.4631999433040619\n",
      "Epoch 19, CIFAR-10 Batch 1:  \n",
      "Loss: 0.039668790996074677 \n",
      "Validation accuracy: 0.4655999541282654\n",
      "Epoch 20, CIFAR-10 Batch 1:  \n",
      "Loss: 0.039348118007183075 \n",
      "Validation accuracy: 0.43879997730255127\n"
     ]
    }
   ],
   "source": [
    "\"\"\"\n",
    "DON'T MODIFY ANYTHING IN THIS CELL\n",
    "\"\"\"\n",
    "print('Checking the Training on a Single Batch...')\n",
    "with tf.Session() as sess:\n",
    "    # Initializing the variables\n",
    "    sess.run(tf.global_variables_initializer())\n",
    "    \n",
    "    # Training cycle\n",
    "    for epoch in range(epochs):\n",
    "        batch_i = 1\n",
    "        for batch_features, batch_labels in helper.load_preprocess_training_batch(batch_i, batch_size):\n",
    "            train_neural_network(sess, optimizer, keep_probability, batch_features, batch_labels)\n",
    "        print('Epoch {:>2}, CIFAR-10 Batch {}:  '.format(epoch + 1, batch_i), end='')\n",
    "        print_stats(sess, batch_features, batch_labels, cost, accuracy)"
   ]
  },
  {
   "cell_type": "markdown",
   "metadata": {},
   "source": [
    "### Fully Train the Model\n",
    "Now that you got a good accuracy with a single CIFAR-10 batch, try it with all five batches."
   ]
  },
  {
   "cell_type": "code",
   "execution_count": 29,
   "metadata": {
    "collapsed": false
   },
   "outputs": [
    {
     "name": "stdout",
     "output_type": "stream",
     "text": [
      "Training...\n",
      "Epoch  1, CIFAR-10 Batch 1:  \n",
      "Loss: 2.280660390853882 \n",
      "Validation accuracy: 0.1743999868631363\n",
      "Epoch  1, CIFAR-10 Batch 2:  \n",
      "Loss: 2.0391688346862793 \n",
      "Validation accuracy: 0.265999972820282\n",
      "Epoch  1, CIFAR-10 Batch 3:  \n",
      "Loss: 1.6727612018585205 \n",
      "Validation accuracy: 0.3025999665260315\n",
      "Epoch  1, CIFAR-10 Batch 4:  \n",
      "Loss: 1.6240897178649902 \n",
      "Validation accuracy: 0.29499998688697815\n",
      "Epoch  1, CIFAR-10 Batch 5:  \n",
      "Loss: 1.6286875009536743 \n",
      "Validation accuracy: 0.38679999113082886\n",
      "Epoch  2, CIFAR-10 Batch 1:  \n",
      "Loss: 1.6012256145477295 \n",
      "Validation accuracy: 0.38899996876716614\n",
      "Epoch  2, CIFAR-10 Batch 2:  \n",
      "Loss: 1.5323985815048218 \n",
      "Validation accuracy: 0.4138000011444092\n",
      "Epoch  2, CIFAR-10 Batch 3:  \n",
      "Loss: 1.2059040069580078 \n",
      "Validation accuracy: 0.39959996938705444\n",
      "Epoch  2, CIFAR-10 Batch 4:  \n",
      "Loss: 1.2637640237808228 \n",
      "Validation accuracy: 0.37540000677108765\n",
      "Epoch  2, CIFAR-10 Batch 5:  \n",
      "Loss: 1.230241298675537 \n",
      "Validation accuracy: 0.46060001850128174\n",
      "Epoch  3, CIFAR-10 Batch 1:  \n",
      "Loss: 1.163346767425537 \n",
      "Validation accuracy: 0.46519991755485535\n",
      "Epoch  3, CIFAR-10 Batch 2:  \n",
      "Loss: 1.090702772140503 \n",
      "Validation accuracy: 0.483599990606308\n",
      "Epoch  3, CIFAR-10 Batch 3:  \n",
      "Loss: 0.8943102955818176 \n",
      "Validation accuracy: 0.4325999617576599\n",
      "Epoch  3, CIFAR-10 Batch 4:  \n",
      "Loss: 0.8998106718063354 \n",
      "Validation accuracy: 0.4501999616622925\n",
      "Epoch  3, CIFAR-10 Batch 5:  \n",
      "Loss: 0.9145194888114929 \n",
      "Validation accuracy: 0.517799973487854\n",
      "Epoch  4, CIFAR-10 Batch 1:  \n",
      "Loss: 0.8363869786262512 \n",
      "Validation accuracy: 0.5265999436378479\n",
      "Epoch  4, CIFAR-10 Batch 2:  \n",
      "Loss: 0.6969327926635742 \n",
      "Validation accuracy: 0.5374000072479248\n",
      "Epoch  4, CIFAR-10 Batch 3:  \n",
      "Loss: 0.5897673964500427 \n",
      "Validation accuracy: 0.4897999167442322\n",
      "Epoch  4, CIFAR-10 Batch 4:  \n",
      "Loss: 0.5347992181777954 \n",
      "Validation accuracy: 0.473999947309494\n",
      "Epoch  4, CIFAR-10 Batch 5:  \n",
      "Loss: 0.5469158887863159 \n",
      "Validation accuracy: 0.559999942779541\n",
      "Epoch  5, CIFAR-10 Batch 1:  \n",
      "Loss: 0.5675977468490601 \n",
      "Validation accuracy: 0.5343999862670898\n",
      "Epoch  5, CIFAR-10 Batch 2:  \n",
      "Loss: 0.4425157308578491 \n",
      "Validation accuracy: 0.5473998785018921\n",
      "Epoch  5, CIFAR-10 Batch 3:  \n",
      "Loss: 0.41733935475349426 \n",
      "Validation accuracy: 0.4861999452114105\n",
      "Epoch  5, CIFAR-10 Batch 4:  \n",
      "Loss: 0.3513157367706299 \n",
      "Validation accuracy: 0.531999945640564\n",
      "Epoch  5, CIFAR-10 Batch 5:  \n",
      "Loss: 0.34556835889816284 \n",
      "Validation accuracy: 0.5823999047279358\n",
      "Epoch  6, CIFAR-10 Batch 1:  \n",
      "Loss: 0.3747975528240204 \n",
      "Validation accuracy: 0.5863999128341675\n",
      "Epoch  6, CIFAR-10 Batch 2:  \n",
      "Loss: 0.266679972410202 \n",
      "Validation accuracy: 0.5823999643325806\n",
      "Epoch  6, CIFAR-10 Batch 3:  \n",
      "Loss: 0.2783956527709961 \n",
      "Validation accuracy: 0.5297999382019043\n",
      "Epoch  6, CIFAR-10 Batch 4:  \n",
      "Loss: 0.22793373465538025 \n",
      "Validation accuracy: 0.562999963760376\n",
      "Epoch  6, CIFAR-10 Batch 5:  \n",
      "Loss: 0.2258845418691635 \n",
      "Validation accuracy: 0.5783998966217041\n",
      "Epoch  7, CIFAR-10 Batch 1:  \n",
      "Loss: 0.23923975229263306 \n",
      "Validation accuracy: 0.5753999352455139\n",
      "Epoch  7, CIFAR-10 Batch 2:  \n",
      "Loss: 0.14574694633483887 \n",
      "Validation accuracy: 0.5983999371528625\n",
      "Epoch  7, CIFAR-10 Batch 3:  \n",
      "Loss: 0.19114625453948975 \n",
      "Validation accuracy: 0.5715999603271484\n",
      "Epoch  7, CIFAR-10 Batch 4:  \n",
      "Loss: 0.16101650893688202 \n",
      "Validation accuracy: 0.5465999841690063\n",
      "Epoch  7, CIFAR-10 Batch 5:  \n",
      "Loss: 0.1408076137304306 \n",
      "Validation accuracy: 0.5659999251365662\n",
      "Epoch  8, CIFAR-10 Batch 1:  \n",
      "Loss: 0.15484777092933655 \n",
      "Validation accuracy: 0.5997999310493469\n",
      "Epoch  8, CIFAR-10 Batch 2:  \n",
      "Loss: 0.103444904088974 \n",
      "Validation accuracy: 0.5909999012947083\n",
      "Epoch  8, CIFAR-10 Batch 3:  \n",
      "Loss: 0.16512662172317505 \n",
      "Validation accuracy: 0.5661998987197876\n",
      "Epoch  8, CIFAR-10 Batch 4:  \n",
      "Loss: 0.12383584678173065 \n",
      "Validation accuracy: 0.5495999455451965\n",
      "Epoch  8, CIFAR-10 Batch 5:  \n",
      "Loss: 0.12292538583278656 \n",
      "Validation accuracy: 0.5587999224662781\n",
      "Epoch  9, CIFAR-10 Batch 1:  \n",
      "Loss: 0.10661186277866364 \n",
      "Validation accuracy: 0.6095999479293823\n",
      "Epoch  9, CIFAR-10 Batch 2:  \n",
      "Loss: 0.08507776260375977 \n",
      "Validation accuracy: 0.5803998708724976\n",
      "Epoch  9, CIFAR-10 Batch 3:  \n",
      "Loss: 0.0674147829413414 \n",
      "Validation accuracy: 0.6189999580383301\n",
      "Epoch  9, CIFAR-10 Batch 4:  \n",
      "Loss: 0.07791142910718918 \n",
      "Validation accuracy: 0.5735998749732971\n",
      "Epoch  9, CIFAR-10 Batch 5:  \n",
      "Loss: 0.09118958562612534 \n",
      "Validation accuracy: 0.5923999547958374\n",
      "Epoch 10, CIFAR-10 Batch 1:  \n",
      "Loss: 0.09019356966018677 \n",
      "Validation accuracy: 0.6071999669075012\n",
      "Epoch 10, CIFAR-10 Batch 2:  \n",
      "Loss: 0.06133600324392319 \n",
      "Validation accuracy: 0.5931999087333679\n",
      "Epoch 10, CIFAR-10 Batch 3:  \n",
      "Loss: 0.08429375290870667 \n",
      "Validation accuracy: 0.5995998978614807\n",
      "Epoch 10, CIFAR-10 Batch 4:  \n",
      "Loss: 0.056725967675447464 \n",
      "Validation accuracy: 0.5963999032974243\n",
      "Epoch 10, CIFAR-10 Batch 5:  \n",
      "Loss: 0.08025413006544113 \n",
      "Validation accuracy: 0.6089999675750732\n",
      "Epoch 11, CIFAR-10 Batch 1:  \n",
      "Loss: 0.06462143361568451 \n",
      "Validation accuracy: 0.6007999181747437\n",
      "Epoch 11, CIFAR-10 Batch 2:  \n",
      "Loss: 0.04279332607984543 \n",
      "Validation accuracy: 0.601599931716919\n",
      "Epoch 11, CIFAR-10 Batch 3:  \n",
      "Loss: 0.0630597248673439 \n",
      "Validation accuracy: 0.590199887752533\n",
      "Epoch 11, CIFAR-10 Batch 4:  \n",
      "Loss: 0.03270181268453598 \n",
      "Validation accuracy: 0.5649999380111694\n",
      "Epoch 11, CIFAR-10 Batch 5:  \n",
      "Loss: 0.04387107491493225 \n",
      "Validation accuracy: 0.6215999126434326\n",
      "Epoch 12, CIFAR-10 Batch 1:  \n",
      "Loss: 0.05511832609772682 \n",
      "Validation accuracy: 0.6023998856544495\n",
      "Epoch 12, CIFAR-10 Batch 2:  \n",
      "Loss: 0.018619820475578308 \n",
      "Validation accuracy: 0.5989998579025269\n",
      "Epoch 12, CIFAR-10 Batch 3:  \n",
      "Loss: 0.05313127487897873 \n",
      "Validation accuracy: 0.5735999345779419\n",
      "Epoch 12, CIFAR-10 Batch 4:  \n",
      "Loss: 0.025751199573278427 \n",
      "Validation accuracy: 0.5615999698638916\n",
      "Epoch 12, CIFAR-10 Batch 5:  \n",
      "Loss: 0.030879240483045578 \n",
      "Validation accuracy: 0.6209999322891235\n",
      "Epoch 13, CIFAR-10 Batch 1:  \n",
      "Loss: 0.02094372920691967 \n",
      "Validation accuracy: 0.6083999276161194\n",
      "Epoch 13, CIFAR-10 Batch 2:  \n",
      "Loss: 0.01706702820956707 \n",
      "Validation accuracy: 0.6007999181747437\n",
      "Epoch 13, CIFAR-10 Batch 3:  \n",
      "Loss: 0.02362009882926941 \n",
      "Validation accuracy: 0.6039999127388\n",
      "Epoch 13, CIFAR-10 Batch 4:  \n",
      "Loss: 0.016354169696569443 \n",
      "Validation accuracy: 0.5859999060630798\n",
      "Epoch 13, CIFAR-10 Batch 5:  \n",
      "Loss: 0.02075565978884697 \n",
      "Validation accuracy: 0.6247999668121338\n",
      "Epoch 14, CIFAR-10 Batch 1:  \n",
      "Loss: 0.018901638686656952 \n",
      "Validation accuracy: 0.606999933719635\n",
      "Epoch 14, CIFAR-10 Batch 2:  \n",
      "Loss: 0.010869958437979221 \n",
      "Validation accuracy: 0.6007999181747437\n",
      "Epoch 14, CIFAR-10 Batch 3:  \n",
      "Loss: 0.02147557958960533 \n",
      "Validation accuracy: 0.60319983959198\n",
      "Epoch 14, CIFAR-10 Batch 4:  \n",
      "Loss: 0.012079287320375443 \n",
      "Validation accuracy: 0.5925999283790588\n",
      "Epoch 14, CIFAR-10 Batch 5:  \n",
      "Loss: 0.022791411727666855 \n",
      "Validation accuracy: 0.6103999018669128\n",
      "Epoch 15, CIFAR-10 Batch 1:  \n",
      "Loss: 0.01352999359369278 \n",
      "Validation accuracy: 0.5981999039649963\n",
      "Epoch 15, CIFAR-10 Batch 2:  \n",
      "Loss: 0.01550864614546299 \n",
      "Validation accuracy: 0.5581998825073242\n",
      "Epoch 15, CIFAR-10 Batch 3:  \n",
      "Loss: 0.021568022668361664 \n",
      "Validation accuracy: 0.5899999141693115\n",
      "Epoch 15, CIFAR-10 Batch 4:  \n",
      "Loss: 0.011048287153244019 \n",
      "Validation accuracy: 0.5845999121665955\n",
      "Epoch 15, CIFAR-10 Batch 5:  \n",
      "Loss: 0.0158663559705019 \n",
      "Validation accuracy: 0.6349998712539673\n",
      "Epoch 16, CIFAR-10 Batch 1:  \n",
      "Loss: 0.02263418585062027 \n",
      "Validation accuracy: 0.5907999277114868\n",
      "Epoch 16, CIFAR-10 Batch 2:  \n",
      "Loss: 0.010074635036289692 \n",
      "Validation accuracy: 0.5849999189376831\n",
      "Epoch 16, CIFAR-10 Batch 3:  \n",
      "Loss: 0.015757352113723755 \n",
      "Validation accuracy: 0.6009998321533203\n",
      "Epoch 16, CIFAR-10 Batch 4:  \n",
      "Loss: 0.005213087424635887 \n",
      "Validation accuracy: 0.5979999303817749\n",
      "Epoch 16, CIFAR-10 Batch 5:  \n",
      "Loss: 0.009418693371117115 \n",
      "Validation accuracy: 0.626599907875061\n",
      "Epoch 17, CIFAR-10 Batch 1:  \n",
      "Loss: 0.007855416275560856 \n",
      "Validation accuracy: 0.6177998781204224\n",
      "Epoch 17, CIFAR-10 Batch 2:  \n",
      "Loss: 0.0073516760021448135 \n",
      "Validation accuracy: 0.6133999228477478\n",
      "Epoch 17, CIFAR-10 Batch 3:  \n",
      "Loss: 0.006448033265769482 \n",
      "Validation accuracy: 0.6295998692512512\n",
      "Epoch 17, CIFAR-10 Batch 4:  \n",
      "Loss: 0.006558785680681467 \n",
      "Validation accuracy: 0.5999999046325684\n",
      "Epoch 17, CIFAR-10 Batch 5:  \n",
      "Loss: 0.007204151246696711 \n",
      "Validation accuracy: 0.6075999140739441\n",
      "Epoch 18, CIFAR-10 Batch 1:  \n",
      "Loss: 0.005845893640071154 \n",
      "Validation accuracy: 0.6247999668121338\n",
      "Epoch 18, CIFAR-10 Batch 2:  \n",
      "Loss: 0.004384176805615425 \n",
      "Validation accuracy: 0.592799961566925\n",
      "Epoch 18, CIFAR-10 Batch 3:  \n",
      "Loss: 0.0055779870599508286 \n",
      "Validation accuracy: 0.61819988489151\n",
      "Epoch 18, CIFAR-10 Batch 4:  \n",
      "Loss: 0.0027032734360545874 \n",
      "Validation accuracy: 0.6037998795509338\n",
      "Epoch 18, CIFAR-10 Batch 5:  \n",
      "Loss: 0.0062537407502532005 \n",
      "Validation accuracy: 0.6209998726844788\n",
      "Epoch 19, CIFAR-10 Batch 1:  \n",
      "Loss: 0.0037061977200210094 \n",
      "Validation accuracy: 0.6345999240875244\n",
      "Epoch 19, CIFAR-10 Batch 2:  \n",
      "Loss: 0.006288329605013132 \n",
      "Validation accuracy: 0.6045998930931091\n",
      "Epoch 19, CIFAR-10 Batch 3:  \n",
      "Loss: 0.0035432549193501472 \n",
      "Validation accuracy: 0.6181999444961548\n",
      "Epoch 19, CIFAR-10 Batch 4:  \n",
      "Loss: 0.0025944248773157597 \n",
      "Validation accuracy: 0.6281998753547668\n",
      "Epoch 19, CIFAR-10 Batch 5:  \n",
      "Loss: 0.0035013812594115734 \n",
      "Validation accuracy: 0.6217999458312988\n",
      "Epoch 20, CIFAR-10 Batch 1:  \n",
      "Loss: 0.004749119747430086 \n",
      "Validation accuracy: 0.6095999479293823\n",
      "Epoch 20, CIFAR-10 Batch 2:  \n",
      "Loss: 0.0015082692261785269 \n",
      "Validation accuracy: 0.6215999126434326\n",
      "Epoch 20, CIFAR-10 Batch 3:  \n",
      "Loss: 0.0024727843701839447 \n",
      "Validation accuracy: 0.6201998591423035\n",
      "Epoch 20, CIFAR-10 Batch 4:  \n",
      "Loss: 0.0036968893837183714 \n",
      "Validation accuracy: 0.6125999093055725\n",
      "Epoch 20, CIFAR-10 Batch 5:  \n",
      "Loss: 0.001993072684854269 \n",
      "Validation accuracy: 0.6299998760223389\n"
     ]
    }
   ],
   "source": [
    "\"\"\"\n",
    "DON'T MODIFY ANYTHING IN THIS CELL\n",
    "\"\"\"\n",
    "save_model_path = './image_classification'\n",
    "\n",
    "print('Training...')\n",
    "with tf.Session() as sess:\n",
    "    # Initializing the variables\n",
    "    sess.run(tf.global_variables_initializer())\n",
    "    \n",
    "    # Training cycle\n",
    "    for epoch in range(epochs):\n",
    "        # Loop over all batches\n",
    "        n_batches = 5\n",
    "        for batch_i in range(1, n_batches + 1):\n",
    "            for batch_features, batch_labels in helper.load_preprocess_training_batch(batch_i, batch_size):\n",
    "                train_neural_network(sess, optimizer, keep_probability, batch_features, batch_labels)\n",
    "            print('Epoch {:>2}, CIFAR-10 Batch {}:  '.format(epoch + 1, batch_i), end='')\n",
    "            print_stats(sess, batch_features, batch_labels, cost, accuracy)\n",
    "            \n",
    "    # Save Model\n",
    "    saver = tf.train.Saver()\n",
    "    save_path = saver.save(sess, save_model_path)"
   ]
  },
  {
   "cell_type": "markdown",
   "metadata": {},
   "source": [
    "# Checkpoint\n",
    "The model has been saved to disk.\n",
    "## Test Model\n",
    "Test your model against the test dataset.  This will be your final accuracy. You should have an accuracy greater than 50%. If you don't, keep tweaking the model architecture and parameters."
   ]
  },
  {
   "cell_type": "code",
   "execution_count": 30,
   "metadata": {
    "collapsed": false
   },
   "outputs": [
    {
     "name": "stdout",
     "output_type": "stream",
     "text": [
      "INFO:tensorflow:Restoring parameters from ./image_classification\n",
      "Testing Accuracy: 0.633984375\n",
      "\n"
     ]
    },
    {
     "data": {
      "image/png": "[encoded data removed]",
      "text/plain": [
       "<matplotlib.figure.Figure at 0x7f3a15f17470>"
      ]
     },
     "metadata": {
      "image/png": {
       "height": 319,
       "width": 355
      }
     },
     "output_type": "display_data"
    }
   ],
   "source": [
    "\"\"\"\n",
    "DON'T MODIFY ANYTHING IN THIS CELL\n",
    "\"\"\"\n",
    "%matplotlib inline\n",
    "%config InlineBackend.figure_format = 'retina'\n",
    "\n",
    "import tensorflow as tf\n",
    "import pickle\n",
    "import helper\n",
    "import random\n",
    "\n",
    "# Set batch size if not already set\n",
    "try:\n",
    "    if batch_size:\n",
    "        pass\n",
    "except NameError:\n",
    "    batch_size = 64\n",
    "\n",
    "save_model_path = './image_classification'\n",
    "n_samples = 4\n",
    "top_n_predictions = 3\n",
    "\n",
    "def test_model():\n",
    "    \"\"\"\n",
    "    Test the saved model against the test dataset\n",
    "    \"\"\"\n",
    "\n",
    "    test_features, test_labels = pickle.load(open('preprocess_training.p', mode='rb'))\n",
    "    loaded_graph = tf.Graph()\n",
    "\n",
    "    with tf.Session(graph=loaded_graph) as sess:\n",
    "        # Load model\n",
    "        loader = tf.train.import_meta_graph(save_model_path + '.meta')\n",
    "        loader.restore(sess, save_model_path)\n",
    "\n",
    "        # Get Tensors from loaded model\n",
    "        loaded_x = loaded_graph.get_tensor_by_name('x:0')\n",
    "        loaded_y = loaded_graph.get_tensor_by_name('y:0')\n",
    "        loaded_keep_prob = loaded_graph.get_tensor_by_name('keep_prob:0')\n",
    "        loaded_logits = loaded_graph.get_tensor_by_name('logits:0')\n",
    "        loaded_acc = loaded_graph.get_tensor_by_name('accuracy:0')\n",
    "        \n",
    "        # Get accuracy in batches for memory limitations\n",
    "        test_batch_acc_total = 0\n",
    "        test_batch_count = 0\n",
    "        \n",
    "        for train_feature_batch, train_label_batch in helper.batch_features_labels(test_features, test_labels, batch_size):\n",
    "            test_batch_acc_total += sess.run(\n",
    "                loaded_acc,\n",
    "                feed_dict={loaded_x: train_feature_batch, loaded_y: train_label_batch, loaded_keep_prob: 1.0})\n",
    "            test_batch_count += 1\n",
    "\n",
    "        print('Testing Accuracy: {}\\n'.format(test_batch_acc_total/test_batch_count))\n",
    "\n",
    "        # Print Random Samples\n",
    "        random_test_features, random_test_labels = tuple(zip(*random.sample(list(zip(test_features, test_labels)), n_samples)))\n",
    "        random_test_predictions = sess.run(\n",
    "            tf.nn.top_k(tf.nn.softmax(loaded_logits), top_n_predictions),\n",
    "            feed_dict={loaded_x: random_test_features, loaded_y: random_test_labels, loaded_keep_prob: 1.0})\n",
    "        helper.display_image_predictions(random_test_features, random_test_labels, random_test_predictions)\n",
    "\n",
    "\n",
    "test_model()"
   ]
  },
  {
   "cell_type": "markdown",
   "metadata": {},
   "source": [
    "## Why 50-80% Accuracy?\n",
    "You might be wondering why you can't get an accuracy any higher. First things first, 50% isn't bad for a simple CNN.  Pure guessing would get you 10% accuracy. That's because there are many more techniques that can be applied to your model and we recemmond that once you are done with this project, you explore!\n",
    "\n",
    "## Submitting This Project\n",
    "When submitting this project, make sure to run all the cells before saving the notebook.  Save the notebook file as \"image_classification.ipynb\" and save it as a HTML file under \"File\" -> \"Download as\".  Include the \"helper.py\" and \"problem_unittests.py\" files in your submission."
   ]
  },
  {
   "cell_type": "code",
   "execution_count": null,
   "metadata": {
    "collapsed": true
   },
   "outputs": [],
   "source": []
  }
 ],
 "metadata": {
  "kernelspec": {
   "display_name": "Python 3",
   "language": "python",
   "name": "python3"
  },
  "language_info": {
   "codemirror_mode": {
    "name": "ipython",
    "version": 3
   },
   "file_extension": ".py",
   "mimetype": "text/x-python",
   "name": "python",
   "nbconvert_exporter": "python",
   "pygments_lexer": "ipython3",
   "version": "3.6.0"
  }
 },
 "nbformat": 4,
 "nbformat_minor": 0
}
